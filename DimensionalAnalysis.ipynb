{
 "cells": [
  {
   "cell_type": "code",
   "execution_count": 2,
   "id": "sweet-harassment",
   "metadata": {},
   "outputs": [],
   "source": [
    "import pandas as pd\n",
    "import matplotlib.pyplot as plt\n",
    "import numpy"
   ]
  },
  {
   "cell_type": "markdown",
   "id": "practical-australian",
   "metadata": {},
   "source": [
    "## Dimensional Analysis\n",
    "<p style='text-align: justify;'>To develop an understanding of how initial velocity, acceleration, and time all affect\n",
    "the distance traveled by an accelerating object, we conduct some experiments and then analyze the resulting data.<br>\n",
    "We asked a student to conduct a series of tests for us.<br>\n",
    "She observed 25 **different** moving bodies with a wide range of initial speeds and different accelerations. For each, she measured the distance the bodies traveled for some prescribed time interval.<br><br>\n",
    "In addition, we would like to use this data set to help make predictions of the distance traveled by other bodies under different conditions. For example, we might want to answer the following question:<br>\n",
    "* What is the acceleration needed to travel 4800 meters in 200 seconds, if the initial velocity is 8 meters per second?</p><br>\n",
    "_______________________________________________________________________________________________________________________________\n"
   ]
  },
  {
   "cell_type": "markdown",
   "id": "peripheral-innocent",
   "metadata": {},
   "source": [
    "### Loading Data"
   ]
  },
  {
   "cell_type": "code",
   "execution_count": 3,
   "id": "logical-workshop",
   "metadata": {},
   "outputs": [],
   "source": [
    "df = pd.read_excel('Input_Data.xlsx')\n",
    "#df.style.highlight_max()\n",
    "#df.round(2)\n",
    "#df"
   ]
  },
  {
   "cell_type": "markdown",
   "id": "stainless-myanmar",
   "metadata": {},
   "source": [
    "***\n",
    "### Plotting test results"
   ]
  },
  {
   "cell_type": "code",
   "execution_count": 4,
   "id": "signal-method",
   "metadata": {},
   "outputs": [
    {
     "data": {
      "image/png": "[encoded data removed]",
      "text/plain": [
       "<Figure size 432x288 with 1 Axes>"
      ]
     },
     "metadata": {
      "needs_background": "light"
     },
     "output_type": "display_data"
    }
   ],
   "source": [
    "plt.scatter(df[\"Time\"], df[\"Distance\"], c='red', marker='d')\n",
    "plt.xlabel(\"Time [s]\")\n",
    "plt.ylabel(\"Distance [m]\")\n",
    "plt.xlim([0, 15])\n",
    "plt.ylim([0, 300])\n",
    "plt.grid()"
   ]
  },
  {
   "cell_type": "markdown",
   "id": "entertaining-kernel",
   "metadata": {},
   "source": [
    "***\n",
    "### Dimensionless Groups"
   ]
  },
  {
   "cell_type": "code",
   "execution_count": 5,
   "id": "hungarian-number",
   "metadata": {},
   "outputs": [
    {
     "data": {
      "text/html": [
       "<div>\n",
       "<style scoped>\n",
       "    .dataframe tbody tr th:only-of-type {\n",
       "        vertical-align: middle;\n",
       "    }\n",
       "\n",
       "    .dataframe tbody tr th {\n",
       "        vertical-align: top;\n",
       "    }\n",
       "\n",
       "    .dataframe thead th {\n",
       "        text-align: right;\n",
       "    }\n",
       "</style>\n",
       "<table border=\"1\" class=\"dataframe\">\n",
       "  <thead>\n",
       "    <tr style=\"text-align: right;\">\n",
       "      <th></th>\n",
       "      <th>Test</th>\n",
       "      <th>Initial_Velocity</th>\n",
       "      <th>Acceleration</th>\n",
       "      <th>Time</th>\n",
       "      <th>Distance</th>\n",
       "      <th>Vel_Tim/Dis</th>\n",
       "      <th>Velsq/Dis_Acc</th>\n",
       "    </tr>\n",
       "  </thead>\n",
       "  <tbody>\n",
       "    <tr>\n",
       "      <th>0</th>\n",
       "      <td>1</td>\n",
       "      <td>3.0</td>\n",
       "      <td>1</td>\n",
       "      <td>6.0</td>\n",
       "      <td>36</td>\n",
       "      <td>0.500000</td>\n",
       "      <td>0.250000</td>\n",
       "    </tr>\n",
       "    <tr>\n",
       "      <th>1</th>\n",
       "      <td>2</td>\n",
       "      <td>3.0</td>\n",
       "      <td>2</td>\n",
       "      <td>6.0</td>\n",
       "      <td>54</td>\n",
       "      <td>0.333333</td>\n",
       "      <td>0.083333</td>\n",
       "    </tr>\n",
       "    <tr>\n",
       "      <th>2</th>\n",
       "      <td>3</td>\n",
       "      <td>1.5</td>\n",
       "      <td>5</td>\n",
       "      <td>6.0</td>\n",
       "      <td>99</td>\n",
       "      <td>0.090909</td>\n",
       "      <td>0.004545</td>\n",
       "    </tr>\n",
       "    <tr>\n",
       "      <th>3</th>\n",
       "      <td>4</td>\n",
       "      <td>5.0</td>\n",
       "      <td>4</td>\n",
       "      <td>6.0</td>\n",
       "      <td>44</td>\n",
       "      <td>0.681818</td>\n",
       "      <td>0.142045</td>\n",
       "    </tr>\n",
       "    <tr>\n",
       "      <th>4</th>\n",
       "      <td>5</td>\n",
       "      <td>5.0</td>\n",
       "      <td>3</td>\n",
       "      <td>8.0</td>\n",
       "      <td>136</td>\n",
       "      <td>0.294118</td>\n",
       "      <td>0.061275</td>\n",
       "    </tr>\n",
       "  </tbody>\n",
       "</table>\n",
       "</div>"
      ],
      "text/plain": [
       "   Test  Initial_Velocity  Acceleration  Time  Distance  Vel_Tim/Dis  \\\n",
       "0     1               3.0             1   6.0        36     0.500000   \n",
       "1     2               3.0             2   6.0        54     0.333333   \n",
       "2     3               1.5             5   6.0        99     0.090909   \n",
       "3     4               5.0             4   6.0        44     0.681818   \n",
       "4     5               5.0             3   8.0       136     0.294118   \n",
       "\n",
       "   Velsq/Dis_Acc  \n",
       "0       0.250000  \n",
       "1       0.083333  \n",
       "2       0.004545  \n",
       "3       0.142045  \n",
       "4       0.061275  "
      ]
     },
     "execution_count": 5,
     "metadata": {},
     "output_type": "execute_result"
    }
   ],
   "source": [
    "df[\"Vel_Tim/Dis\"] = df[\"Initial_Velocity\"] * df[\"Time\"] / df[\"Distance\"]\n",
    "df[\"Velsq/Dis_Acc\"] = df[\"Initial_Velocity\"] ** 2 / (df[\"Acceleration\"] * df[\"Distance\"])\n",
    "df.head()"
   ]
  },
  {
   "cell_type": "code",
   "execution_count": 6,
   "id": "extended-locking",
   "metadata": {
    "scrolled": false
   },
   "outputs": [
    {
     "data": {
      "text/plain": [
       "Text(0.5, 1.0, 'y=11.484805x^3 + -10.795405x^2 + 3.476177x + -0.295564')"
      ]
     },
     "execution_count": 6,
     "metadata": {},
     "output_type": "execute_result"
    },
    {
     "data": {
      "image/png": "[encoded data removed]",
      "text/plain": [
       "<Figure size 432x288 with 1 Axes>"
      ]
     },
     "metadata": {
      "needs_background": "light"
     },
     "output_type": "display_data"
    }
   ],
   "source": [
    "plt.scatter(df[\"Vel_Tim/Dis\"], df[\"Velsq/Dis_Acc\"], c='blue', marker='o')\n",
    "plt.xlabel(\"(Initial Velocity * Time) / Distance [-]\")\n",
    "plt.ylabel(\"Velocity Squared / (Distance * Acceleration) [-]\")\n",
    "plt.xlim([0, 1])\n",
    "plt.ylim([0, 2])\n",
    "plt.grid()\n",
    "\n",
    "\n",
    "trendline = numpy.poly1d(numpy.polyfit(df['Vel_Tim/Dis'], df[\"Velsq/Dis_Acc\"], 3))\n",
    "abscisa = numpy.linspace(0, 1.0, 100)\n",
    "\n",
    "plt.plot(abscisa, trendline(abscisa), color='red')\n",
    "plt.title(\"y=%.6fx^3 + %.6fx^2 + %.6fx + %.6f\"%(trendline[3],trendline[2],trendline[1], trendline[0])) "
   ]
  },
  {
   "cell_type": "markdown",
   "id": "urban-hopkins",
   "metadata": {},
   "source": [
    "***"
   ]
  },
  {
   "cell_type": "markdown",
   "id": "private-probability",
   "metadata": {},
   "source": [
    "### Outliers based on trendline"
   ]
  },
  {
   "cell_type": "code",
   "execution_count": 40,
   "id": "conditional-magnet",
   "metadata": {
    "scrolled": false
   },
   "outputs": [
    {
     "data": {
      "text/html": [
       "<div>\n",
       "<style scoped>\n",
       "    .dataframe tbody tr th:only-of-type {\n",
       "        vertical-align: middle;\n",
       "    }\n",
       "\n",
       "    .dataframe tbody tr th {\n",
       "        vertical-align: top;\n",
       "    }\n",
       "\n",
       "    .dataframe thead th {\n",
       "        text-align: right;\n",
       "    }\n",
       "</style>\n",
       "<table border=\"1\" class=\"dataframe\">\n",
       "  <thead>\n",
       "    <tr style=\"text-align: right;\">\n",
       "      <th></th>\n",
       "      <th>Test</th>\n",
       "      <th>Initial_Velocity</th>\n",
       "      <th>Acceleration</th>\n",
       "      <th>Time</th>\n",
       "      <th>Distance</th>\n",
       "      <th>Vel_Tim/Dis</th>\n",
       "      <th>Velsq/Dis_Acc</th>\n",
       "      <th>Fitting</th>\n",
       "      <th>Difference</th>\n",
       "    </tr>\n",
       "  </thead>\n",
       "  <tbody>\n",
       "    <tr>\n",
       "      <th>3</th>\n",
       "      <td>4</td>\n",
       "      <td>5.0</td>\n",
       "      <td>4</td>\n",
       "      <td>6.0</td>\n",
       "      <td>44</td>\n",
       "      <td>0.681818</td>\n",
       "      <td>0.142045</td>\n",
       "      <td>0.696266</td>\n",
       "      <td>-0.554221</td>\n",
       "    </tr>\n",
       "  </tbody>\n",
       "</table>\n",
       "</div>"
      ],
      "text/plain": [
       "   Test  Initial_Velocity  Acceleration  Time  Distance  Vel_Tim/Dis  \\\n",
       "3     4               5.0             4   6.0        44     0.681818   \n",
       "\n",
       "   Velsq/Dis_Acc   Fitting  Difference  \n",
       "3       0.142045  0.696266   -0.554221  "
      ]
     },
     "execution_count": 40,
     "metadata": {},
     "output_type": "execute_result"
    }
   ],
   "source": [
    "df[\"Fitting\"] = (11.484805 * df[\"Vel_Tim/Dis\"] ** 3 ) + ( -10.795405 * df[\"Vel_Tim/Dis\"] ** 2 ) + ( 3.476177 * df[\"Vel_Tim/Dis\"] ) + -0.295564\n",
    "df[\"Difference\"] = df[\"Velsq/Dis_Acc\"] - df[\"Fitting\"]\n",
    "upper_limit = df.Difference.mean() + 3*df.Difference.std()\n",
    "lower_limit = df.Difference.mean() - 3*df.Difference.std()\n",
    "\n",
    "outliers = df[(df.Difference > upper_limit) | (df.Difference < lower_limit)]\n",
    "outliers"
   ]
  },
  {
   "cell_type": "markdown",
   "id": "usual-simon",
   "metadata": {},
   "source": [
    "***"
   ]
  },
  {
   "cell_type": "markdown",
   "id": "civilian-cholesterol",
   "metadata": {},
   "source": [
    "### Outlier based on analytical equation"
   ]
  },
  {
   "cell_type": "code",
   "execution_count": 48,
   "id": "champion-football",
   "metadata": {},
   "outputs": [],
   "source": [
    "df[\"CalcDist\"] = df[\"Initial_Velocity\"] * df[\"Time\"] + 0.5 * df[\"Acceleration\"] * df[\"Time\"] ** 2\n",
    "df[\"Diff\"] = (df[\"Distance\"] - df[\"CalcDist\"])"
   ]
  },
  {
   "cell_type": "code",
   "execution_count": 49,
   "id": "warming-mattress",
   "metadata": {
    "scrolled": true
   },
   "outputs": [
    {
     "data": {
      "text/html": [
       "<div>\n",
       "<style scoped>\n",
       "    .dataframe tbody tr th:only-of-type {\n",
       "        vertical-align: middle;\n",
       "    }\n",
       "\n",
       "    .dataframe tbody tr th {\n",
       "        vertical-align: top;\n",
       "    }\n",
       "\n",
       "    .dataframe thead th {\n",
       "        text-align: right;\n",
       "    }\n",
       "</style>\n",
       "<table border=\"1\" class=\"dataframe\">\n",
       "  <thead>\n",
       "    <tr style=\"text-align: right;\">\n",
       "      <th></th>\n",
       "      <th>Test</th>\n",
       "      <th>Initial_Velocity</th>\n",
       "      <th>Acceleration</th>\n",
       "      <th>Time</th>\n",
       "      <th>Distance</th>\n",
       "      <th>Vel_Tim/Dis</th>\n",
       "      <th>Velsq/Dis_Acc</th>\n",
       "      <th>Fitting</th>\n",
       "      <th>Difference</th>\n",
       "      <th>CalcDist</th>\n",
       "      <th>Diff</th>\n",
       "    </tr>\n",
       "  </thead>\n",
       "  <tbody>\n",
       "    <tr>\n",
       "      <th>3</th>\n",
       "      <td>4</td>\n",
       "      <td>5.0</td>\n",
       "      <td>4</td>\n",
       "      <td>6.0</td>\n",
       "      <td>44</td>\n",
       "      <td>0.681818</td>\n",
       "      <td>0.142045</td>\n",
       "      <td>0.696266</td>\n",
       "      <td>-0.554221</td>\n",
       "      <td>102.0</td>\n",
       "      <td>-58.0</td>\n",
       "    </tr>\n",
       "  </tbody>\n",
       "</table>\n",
       "</div>"
      ],
      "text/plain": [
       "   Test  Initial_Velocity  Acceleration  Time  Distance  Vel_Tim/Dis  \\\n",
       "3     4               5.0             4   6.0        44     0.681818   \n",
       "\n",
       "   Velsq/Dis_Acc   Fitting  Difference  CalcDist  Diff  \n",
       "3       0.142045  0.696266   -0.554221     102.0 -58.0  "
      ]
     },
     "execution_count": 49,
     "metadata": {},
     "output_type": "execute_result"
    }
   ],
   "source": [
    "df.Diff.mean()\n",
    "df.Diff.std()\n",
    "\n",
    "upper_limit = df.Diff.mean() + 3*df.Diff.std()\n",
    "lower_limit = df.Diff.mean() - 3*df.Diff.std()\n",
    "\n",
    "outliers = df[(df.Diff > upper_limit) | (df.Diff < lower_limit)]\n",
    "outliers"
   ]
  },
  {
   "cell_type": "markdown",
   "id": "proof-lodging",
   "metadata": {},
   "source": [
    "***\n",
    "### Sanity Check"
   ]
  },
  {
   "cell_type": "code",
   "execution_count": 50,
   "id": "covered-garage",
   "metadata": {
    "scrolled": true
   },
   "outputs": [
    {
     "data": {
      "image/png": "[encoded data removed]",
      "text/plain": [
       "<Figure size 432x288 with 1 Axes>"
      ]
     },
     "metadata": {
      "needs_background": "light"
     },
     "output_type": "display_data"
    }
   ],
   "source": [
    "ax = df.plot(kind='scatter', x='Vel_Tim/Dis', y='Velsq/Dis_Acc')\n",
    "for idx, row in df.iterrows():\n",
    "    ax.annotate(row['Test'], (row['Vel_Tim/Dis'], row['Velsq/Dis_Acc']),xytext=(10,-5), textcoords='offset points')"
   ]
  },
  {
   "cell_type": "markdown",
   "id": "natural-developer",
   "metadata": {},
   "source": [
    "***\n",
    "### Filtered Data"
   ]
  },
  {
   "cell_type": "code",
   "execution_count": 32,
   "id": "informational-insulation",
   "metadata": {},
   "outputs": [],
   "source": [
    "df_filtered = df[(df.Diff < upper_limit) & (df.Diff > lower_limit)]\n",
    "#df_filtered"
   ]
  },
  {
   "cell_type": "code",
   "execution_count": 33,
   "id": "demographic-surprise",
   "metadata": {},
   "outputs": [
    {
     "data": {
      "text/plain": [
       "Text(0.5, 1.0, 'y=8.691x^3 + -7.097x^2 + 2.166x + -0.175')"
      ]
     },
     "execution_count": 33,
     "metadata": {},
     "output_type": "execute_result"
    },
    {
     "data": {
      "image/png": "[encoded data removed]",
      "text/plain": [
       "<Figure size 432x288 with 1 Axes>"
      ]
     },
     "metadata": {
      "needs_background": "light"
     },
     "output_type": "display_data"
    }
   ],
   "source": [
    "plt.scatter(df_filtered[\"Vel_Tim/Dis\"], df_filtered[\"Velsq/Dis_Acc\"], c='blue', marker='o')\n",
    "plt.xlabel(\"(Initial Velocity * Time) / Distance [-]\")\n",
    "plt.ylabel(\"Velocity Squared / (Distance * Acceleration) [-]\")\n",
    "plt.xlim([0, 1])\n",
    "plt.ylim([0, 2])\n",
    "plt.grid()\n",
    "\n",
    "trendline = numpy.poly1d(numpy.polyfit(df_filtered[\"Vel_Tim/Dis\"], df_filtered[\"Velsq/Dis_Acc\"], 3))\n",
    "abscisa = numpy.linspace(0, 1.0, 100)\n",
    "\n",
    "plt.plot(abscisa, trendline(abscisa), color='red')\n",
    "plt.title(\"y=%.3fx^3 + %.3fx^2 + %.3fx + %.3f\"%(trendline[3],trendline[2],trendline[1], trendline[0])) "
   ]
  },
  {
   "cell_type": "markdown",
   "id": "finished-grill",
   "metadata": {},
   "source": [
    "**What acceleration is required to go 4,800 meters in 200 seconds if the initial car velocity is 8 meters per second?**<br>\n",
    "On the abscissa:<br>\n",
    "( 8 m/s*200 s ) / 4800 m = 0.33<br><br>\n",
    "Reading from the graph:<br>\n",
    "v0^2 /( da ) = 0.075<br><br>\n",
    "Solving for acceleration:<br>\n",
    "a = 8 m/s^2 / ( 0.075 * 4800 m ) = 0.18 m/s^2"
   ]
  }
 ],
 "metadata": {
  "kernelspec": {
   "display_name": "Python 3",
   "language": "python",
   "name": "python3"
  },
  "language_info": {
   "codemirror_mode": {
    "name": "ipython",
    "version": 3
   },
   "file_extension": ".py",
   "mimetype": "text/x-python",
   "name": "python",
   "nbconvert_exporter": "python",
   "pygments_lexer": "ipython3",
   "version": "3.7.3"
  }
 },
 "nbformat": 4,
 "nbformat_minor": 5
}
